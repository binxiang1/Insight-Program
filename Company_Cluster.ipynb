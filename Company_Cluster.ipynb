{
 "cells": [
  {
   "cell_type": "code",
   "execution_count": 101,
   "metadata": {
    "collapsed": true
   },
   "outputs": [],
   "source": [
    "%matplotlib inline\n",
    "from __future__ import division\n",
    "import os\n",
    "current_dir = os.getcwd()\n",
    "data_dir = os.path.join(current_dir, 'data')\n",
    "if not os.path.exists(data_dir):\n",
    "    os.mkdir(data_dir)\n",
    "    \n",
    "graph_dir = os.path.join(current_dir, 'graph')\n",
    "if not os.path.exists(graph_dir):\n",
    "    os.mkdir(graph_dir)\n",
    "    \n",
    "figure_dir = os.path.join(current_dir, 'figure')\n",
    "if not os.path.exists(figure_dir):\n",
    "    os.mkdir(figure_dir)\n",
    "\n",
    "import matplotlib.pylab as plt\n",
    "\n",
    "import pandas as pd\n",
    "import numpy as np\n",
    "from scipy.spatial.distance import pdist\n",
    "from sklearn import preprocessing\n",
    "\n",
    "import itertools\n",
    "\n",
    "import pandas.io.sql as psql\n",
    "import pymysql as mdb\n",
    "\n",
    "from datetime import datetime"
   ]
  },
  {
   "cell_type": "code",
   "execution_count": 159,
   "metadata": {
    "collapsed": true
   },
   "outputs": [],
   "source": [
    "hs.to_csv('SH_CB_UniqueCompany.csv')\n"
   ]
  },
  {
   "cell_type": "code",
   "execution_count": 157,
   "metadata": {
    "collapsed": false
   },
   "outputs": [
    {
     "name": "stdout",
     "output_type": "stream",
     "text": [
      "CPU times: user 3 µs, sys: 1e+03 ns, total: 4 µs\n",
      "Wall time: 24.1 µs\n",
      "[[0, 5], [0, 6], [0, 7], [0, 8], [0, 9], [0, 10], [0, 11], [0, 12], [0, 13], [0, 14]]\n"
     ]
    }
   ],
   "source": [
    "# Load Data\n",
    "hs = pd.read_csv('../Week 2/SH_CB.csv')\n",
    "#hs = hs.drop(['CB_Founder7','CB_Founder7UUID','CB_Investor15','CB_Investor16','CB_Investor17','CB_Investor18','CB_Investor19','CB_Investor20','CB_Investor21','CB_Investor22','CB_Investor23','CB_Investor24','CB_Investor25','CB_Investor26','CB_Investor27'],1)\n",
    "from pandas import *\n",
    "ucompany = unique(hs['COMPANY_NAME'])\n",
    "#company = pd.DataFrame(columns=('COMPANY_NAME','LOCATION', 'SUB_TAG1', 'SUB_TAG2', 'SUB_TAG3', 'SUB_TAG4','SUB_TAG5','CB_FundingType','CB_Category', 'CB_TotalFundingAmount','CB_FoundedOn', 'CB_FundingRounds', 'CB_Acquisition', 'CB_IPO','CB_EmployeeNumber'))\n",
    "\n",
    "list_index = []\n",
    "for i_company in ucompany:\n",
    "    list_index.append(hs[hs['COMPANY_NAME']==i_company].index[0])\n",
    "list_index        \n",
    "    \n",
    "hs = hs.loc[list_index,['LOCATION', 'SUB_TAG1', 'SUB_TAG2', 'SUB_TAG3', 'SUB_TAG4','SUB_TAG5','CB_FundingType','CB_Category', 'CB_TotalFundingAmount','CB_FoundedOn', 'CB_FundingRounds', 'CB_Acquisition', 'CB_IPO','CB_EmployeeNumber']]\n",
    "\n",
    "hs.to_csv('SH_CB_UniqueCompany.csv')\n",
    "\n",
    "# function: find the most frequent value in a column\n",
    "def find_frequent_item(df, col_name):\n",
    "    ind = df[col_name].dropna().value_counts().index[0]\n",
    "    return ind\n",
    "\n",
    "# discritize the price data\n",
    "#product_df.retail_price = pd.qcut(product_df.retail_price, 3, labels=['low', 'median', 'high'])\n",
    "\n",
    "# fix missing value\n",
    "for col in hs.columns:\n",
    "    value = find_frequent_item(hs, col)\n",
    "    hs[col] = hs[col].fillna(value)\n",
    "    \n",
    "# encoding the data\n",
    "le = preprocessing.LabelEncoder()\n",
    "hs_encode = pd.DataFrame(map(le.fit_transform, hs.T.values)).T\n",
    "hs_encode.index = hs.index\n",
    "hs_encode.columns = hs.columns\n",
    "\n",
    "file_name = \"product_{0.month}_{0.day}_{0.year}.csv\".format(datetime.now())\n",
    "hs_encode.to_csv(os.path.join(data_dir, file_name))\n",
    "\n",
    "\n",
    "# now calculate hamming distance between products\n",
    "dist = pdist(hs_encode.values, 'hamming') # pairwise distance\n",
    "\n",
    "#def round1(x):\n",
    "#    return round(x, 1)\n",
    "#dist_round = apply(round1, dist)\n",
    "\n",
    "\n",
    "\n",
    "%time\n",
    "import Queue\n",
    "import threading\n",
    "\n",
    "condensed_idx = lambda i,j,n : int(i*n + j - i*(i+1)/2 - i - 1)\n",
    "nrows = hs_encode.shape[0]\n",
    "row_indices = range(nrows-1)\n",
    "chunk = 10\n",
    "row_indices_chunks = zip(*[iter(row_indices)]*chunk)\n",
    "\n",
    "q = Queue.Queue()\n",
    "\n",
    "def assign_edges(q, inds):\n",
    "        edges = []\n",
    "        for i in inds:\n",
    "                for j in range(i+1, nrows):\n",
    "                        if dist[condensed_idx(i, j, nrows)] < 0.5:\n",
    "                                edges.append([i, j])\n",
    "        q.put(edges)\n",
    "\n",
    "for inds in row_indices_chunks:\n",
    "        t = threading.Thread(target=assign_edges, args=(q, inds))\n",
    "        t.daemon = True\n",
    "        t.start()\n",
    "\n",
    "edges = q.get()\n",
    "print edges[:10]\n",
    "edges_df = pd.DataFrame(edges)\n"
   ]
  },
  {
   "cell_type": "code",
   "execution_count": 158,
   "metadata": {
    "collapsed": false
   },
   "outputs": [
    {
     "data": {
      "text/plain": [
       "<matplotlib.axes._subplots.AxesSubplot at 0x1ddacc190>"
      ]
     },
     "execution_count": 158,
     "metadata": {},
     "output_type": "execute_result"
    },
    {
     "data": {
      "image/png": "[encoded data removed]",
      "text/plain": [
       "<matplotlib.figure.Figure at 0x144c6b710>"
      ]
     },
     "metadata": {},
     "output_type": "display_data"
    }
   ],
   "source": [
    "import networkx as nx\n",
    "G = nx.Graph(edges)\n",
    "\n",
    "# write gml file\n",
    "file_name = \"edges_0.5_{0.month}_{0.day}_{0.year}.gml\".format(datetime.now())\n",
    "nx.write_gml(G, os.path.join(graph_dir, file_name))\n",
    "\n",
    "degree_sequence = pd.Series(nx.degree(G).values())\n",
    "np.log2(degree_sequence).hist(bins=100)\n",
    "#degree_sequence.hist(bins=100)\n",
    "\n"
   ]
  },
  {
   "cell_type": "code",
   "execution_count": 109,
   "metadata": {
    "collapsed": false
   },
   "outputs": [
    {
     "ename": "AttributeError",
     "evalue": "'module' object has no attribute 'Graph'",
     "output_type": "error",
     "traceback": [
      "\u001b[0;31m---------------------------------------------------------------------------\u001b[0m",
      "\u001b[0;31mAttributeError\u001b[0m                            Traceback (most recent call last)",
      "\u001b[0;32m<ipython-input-109-67169e9d4a5f>\u001b[0m in \u001b[0;36m<module>\u001b[0;34m()\u001b[0m\n\u001b[1;32m      1\u001b[0m \u001b[0;32mimport\u001b[0m \u001b[0migraph\u001b[0m\u001b[0;34m\u001b[0m\u001b[0m\n\u001b[1;32m      2\u001b[0m \u001b[0;31m#g = igraph.Graph.Read_GML(os.path.join(graph_dir, file_name))\u001b[0m\u001b[0;34m\u001b[0m\u001b[0;34m\u001b[0m\u001b[0m\n\u001b[0;32m----> 3\u001b[0;31m \u001b[0mg\u001b[0m \u001b[0;34m=\u001b[0m \u001b[0migraph\u001b[0m\u001b[0;34m.\u001b[0m\u001b[0mGraph\u001b[0m\u001b[0;34m(\u001b[0m\u001b[0;34m)\u001b[0m\u001b[0;34m\u001b[0m\u001b[0m\n\u001b[0m",
      "\u001b[0;31mAttributeError\u001b[0m: 'module' object has no attribute 'Graph'"
     ]
    }
   ],
   "source": [
    "import igraph\n",
    "#g = igraph.Graph.Read_GML(os.path.join(graph_dir, file_name))\n",
    "g = igraph.Graph()"
   ]
  },
  {
   "cell_type": "code",
   "execution_count": 96,
   "metadata": {
    "collapsed": false
   },
   "outputs": [],
   "source": [
    "import matplotlib.pylab as plt\n",
    "\n",
    "import pandas as pd\n",
    "import numpy as np\n",
    "from scipy.spatial.distance import pdist\n",
    "from sklearn import preprocessing\n",
    "\n",
    "import itertools\n",
    "\n",
    "import pandas.io.sql as psql\n",
    "import pymysql as mdb\n",
    "\n",
    "from datetime import datetime\n",
    "from igraph import *\n",
    "\n",
    "#g = Graph.Read_GML(os.path.join(graph_dir, file_name))\n",
    "g = Graph.Read_GML('/Users/binxiang/Desktop/Insight/Week 3/graph/edges_0.5_7_25_2015.gml')\n",
    "#file_name = \"fastcommunity_clustering_edges_0.5_{0.month}_{0.day}_{0.year}.csv\".format(datetime.now())\n",
    "#print os.path.join(graph_dir, file_name)\n",
    "dendrogram = g.community_fastgreedy()\n",
    "clusters = dendrogram.as_clustering()\n",
    "membership = clusters.membership\n",
    "\n",
    "clustering = []\n",
    "n_items = []\n",
    "for i, cluster in enumerate(clusters):\n",
    "    n_items.append(len(cluster))\n",
    "    for node in cluster:\n",
    "        clustering.append((g.vs[node]['label'], i))\n",
    "\n",
    "clustering = pd.DataFrame(clustering)\n",
    "#file_name = \"fastcommunity_clustering_edges_0.5_{0.month}_{0.day}_{0.year}.csv\".format(datetime.now())\n",
    "file_name = '/Users/binxiang/Desktop/Insight/Week 3/graph/fastcommunity_clustering_edges_0.5_7_25_2015.csv'\n",
    "#clustering.to_csv(os.path.join(graph_dir, file_name))\n",
    "clustering.to_csv(file_name)\n",
    "\n",
    "n_items = pd.Series(n_items)\n",
    "n_items.plot('bar')\n",
    "plt.title(\"Cluster Size\")\n",
    "plt.savefig('/Users/binxiang/Desktop/Insight/Week 3/figure/fastcommunity_cluster_size.jpg')\n"
   ]
  },
  {
   "cell_type": "code",
   "execution_count": 116,
   "metadata": {
    "collapsed": false
   },
   "outputs": [
    {
     "name": "stdout",
     "output_type": "stream",
     "text": [
      "/Users/binxiang/Desktop/Insight/Week 3/figure/fastcommunity_cluster_size.jpg\n"
     ]
    }
   ],
   "source": []
  },
  {
   "cell_type": "code",
   "execution_count": null,
   "metadata": {
    "collapsed": true
   },
   "outputs": [],
   "source": []
  }
 ],
 "metadata": {
  "kernelspec": {
   "display_name": "Python 2",
   "language": "python",
   "name": "python2"
  },
  "language_info": {
   "codemirror_mode": {
    "name": "ipython",
    "version": 2
   },
   "file_extension": ".py",
   "mimetype": "text/x-python",
   "name": "python",
   "nbconvert_exporter": "python",
   "pygments_lexer": "ipython2",
   "version": "2.7.10"
  }
 },
 "nbformat": 4,
 "nbformat_minor": 0
}
