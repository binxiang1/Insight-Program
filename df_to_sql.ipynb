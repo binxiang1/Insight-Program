{
 "cells": [
  {
   "cell_type": "code",
   "execution_count": 45,
   "metadata": {
    "collapsed": false
   },
   "outputs": [],
   "source": [
    "# upload sql files to local Mysql database\n",
    "\n",
    "# first open MySQLWorkbench\n",
    "# set no string length limit\n",
    "# SET @@global.sql_mode= '';\n",
    "# open excel, delete first columns of index in investor_sql.csv and company_sql.csv\n",
    "\n",
    "import pandas as pd \n",
    "import MySQLdb\n",
    "\n",
    "# read csv source file to panda dataframe\n",
    "di = pd.read_csv('/Users/binxiang/Desktop/Insight/Week 3/investor_sql.csv')\n",
    "dc = pd.read_csv('/Users/binxiang/Desktop/Insight/Week 3/company_sql.csv')\n",
    "# add base 1 to investor past investments\n",
    "for irow_di in di.index:\n",
    "    if di.loc[irow_di,'TimesInvest'] == 0: di.loc[irow_di,'TimesInvest'] =1\n",
    "# write dataframe to MySQL\n",
    "db = MySQLdb.connect('localhost','root','')  #host, user, password, #database\n",
    "db.query(\"CREATE DATABASE IF NOT EXISTS recommend_db;\")\n",
    "db.query('USE recommend_db;')\n",
    "di.to_sql(name = 'investor_tb', con = db, flavor = 'mysql')\n",
    "dc.to_sql(name = 'company_tb', con = db, flavor = 'mysql')\n",
    "db.close()\n"
   ]
  },
  {
   "cell_type": "code",
   "execution_count": 9,
   "metadata": {
    "collapsed": false
   },
   "outputs": [
    {
     "data": {
      "text/html": [
       "<div>\n",
       "<table border=\"1\" class=\"dataframe\">\n",
       "  <thead>\n",
       "    <tr style=\"text-align: right;\">\n",
       "      <th></th>\n",
       "      <th>Name</th>\n",
       "      <th>Category</th>\n",
       "      <th>TimesInvest</th>\n",
       "    </tr>\n",
       "  </thead>\n",
       "  <tbody>\n",
       "    <tr>\n",
       "      <th>255</th>\n",
       "      <td>500 Startups</td>\n",
       "      <td>Finance</td>\n",
       "      <td>836</td>\n",
       "    </tr>\n",
       "    <tr>\n",
       "      <th>448</th>\n",
       "      <td>Sequoia Capital</td>\n",
       "      <td>Analytics</td>\n",
       "      <td>908</td>\n",
       "    </tr>\n",
       "    <tr>\n",
       "      <th>791</th>\n",
       "      <td>Wayra</td>\n",
       "      <td>Big Data</td>\n",
       "      <td>864</td>\n",
       "    </tr>\n",
       "  </tbody>\n",
       "</table>\n",
       "</div>"
      ],
      "text/plain": [
       "                Name   Category  TimesInvest\n",
       "255     500 Startups    Finance          836\n",
       "448  Sequoia Capital  Analytics          908\n",
       "791            Wayra   Big Data          864"
      ]
     },
     "execution_count": 9,
     "metadata": {},
     "output_type": "execute_result"
    }
   ],
   "source": [
    "# find popular investors\n",
    "di[di['TimesInvest']>800]"
   ]
  },
  {
   "cell_type": "code",
   "execution_count": 34,
   "metadata": {
    "collapsed": false
   },
   "outputs": [
    {
     "data": {
      "text/plain": [
       "'Venture Round'"
      ]
     },
     "execution_count": 34,
     "metadata": {},
     "output_type": "execute_result"
    }
   ],
   "source": [
    "# find company in category\n",
    "ind = dc[dc['Category']=='Finance'].index\n",
    "dc[dc['Location']==' MA']['Title'][66]\n"
   ]
  },
  {
   "cell_type": "code",
   "execution_count": 42,
   "metadata": {
    "collapsed": true
   },
   "outputs": [],
   "source": [
    "# read csv source file to panda dataframe\n",
    "di = pd.read_csv('/Users/binxiang/Desktop/Insight/Week 3/investor_sql.csv')\n",
    "dc = pd.read_csv('/Users/binxiang/Desktop/Insight/Week 3/company_sql.csv')\n",
    "# add base 1 to investor past investments\n",
    "di['TimesInvest'] = di['TimesInvest'] + 1\n"
   ]
  },
  {
   "cell_type": "code",
   "execution_count": 43,
   "metadata": {
    "collapsed": false
   },
   "outputs": [
    {
     "data": {
      "text/plain": [
       "275"
      ]
     },
     "execution_count": 43,
     "metadata": {},
     "output_type": "execute_result"
    }
   ],
   "source": [
    "di.loc[10,'TimesInvest']"
   ]
  },
  {
   "cell_type": "code",
   "execution_count": null,
   "metadata": {
    "collapsed": true
   },
   "outputs": [],
   "source": []
  }
 ],
 "metadata": {
  "kernelspec": {
   "display_name": "Python 2",
   "language": "python",
   "name": "python2"
  },
  "language_info": {
   "codemirror_mode": {
    "name": "ipython",
    "version": 2
   },
   "file_extension": ".py",
   "mimetype": "text/x-python",
   "name": "python",
   "nbconvert_exporter": "python",
   "pygments_lexer": "ipython2",
   "version": "2.7.10"
  }
 },
 "nbformat": 4,
 "nbformat_minor": 0
}
