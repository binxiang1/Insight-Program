{
 "cells": [
  {
   "cell_type": "code",
   "execution_count": 1,
   "metadata": {
    "collapsed": true
   },
   "outputs": [],
   "source": [
    "import requests\n",
    "import json\n",
    "import pandas as pd \n",
    "from pandas import *\n",
    "import numpy as np\n",
    "import itertools\n",
    "from sklearn.decomposition import ProjectedGradientNMF\n",
    "import numpy\n",
    "import matplotlib.pyplot as plt\n",
    "import numpy as np\n",
    "import random\n",
    "# read complete file\n",
    "hs = pd.read_csv('/Users/binxiang/Desktop/Insight/Week 2/SH_CB.csv')\n",
    "# read csv source file to panda dataframe\n",
    "di = pd.read_csv('/Users/binxiang/Desktop/Insight/Week 3/investor_sql.csv')\n",
    "dc = pd.read_csv('/Users/binxiang/Desktop/Insight/Week 3/company_sql.csv')\n"
   ]
  },
  {
   "cell_type": "code",
   "execution_count": 110,
   "metadata": {
    "collapsed": false
   },
   "outputs": [
    {
     "data": {
      "text/plain": [
       "0.9576066541454252"
      ]
     },
     "execution_count": 110,
     "metadata": {},
     "output_type": "execute_result"
    }
   ],
   "source": [
    "# calculate accuracy for recommended investors\n",
    "\n",
    "number_investor = 50\n",
    "accuracy = []\n",
    "for irow_hs in hs.index:\n",
    "    \n",
    "    # make list of actual investors of the company\n",
    "    actual_investors = unique(hs.loc[irow_hs,'investor_company0':'investor_company11'].dropna().values.tolist() + hs.loc[irow_hs,'investor_user0':'investor_user23'].dropna().values.tolist() + hs.loc[irow_hs,'CB_Investor0':'CB_Investor7'].dropna().values.tolist()).tolist()\n",
    "    \n",
    "    # make list of recommended investors based on company category and similarity\n",
    "    recommend_category = di[di['Category'] == list(dc.loc[dc['Name'] == hs['COMPANY_NAME'][irow_hs],'Category'])[0]].sort('TimesInvest',ascending=False)['Name']\n",
    "    ind_select=list(set(dc[dc['Location']==hs['LOCATION'][irow_hs]].index) & set(dc[dc['Title']==hs['TITLE'][irow_hs]].index))\n",
    "    investor_pool = []\n",
    "    for i_dc in ind_select:\n",
    "        if not pd.isnull(dc.loc[i_dc,'Investors']):\n",
    "            investor_pool.extend(dc.loc[i_dc,'Investors'].split(' + '))\n",
    "    di_sort = di.sort('TimesInvest',ascending=False)\n",
    "    recommend_similarity = []\n",
    "    for i_di_sort in di_sort.index:\n",
    "        if di_sort['Name'][i_di_sort] in investor_pool:\n",
    "            recommend_similarity.append(di_sort['Name'][i_di_sort])\n",
    "    recommend_similarity = recommend_similarity\n",
    "    recommend_investors = list(recommend_category[:number_investor])\n",
    "    recommend_investors.extend(list(recommend_similarity[:number_investor]))\n",
    "    \n",
    "    # compare actual and recommended investors\n",
    "    temp_accuracy = []\n",
    "    for i in actual_investors:\n",
    "        if i in recommend_investors: temp_accuracy.append(1)\n",
    "        else: temp_accuracy.append(0)\n",
    "    \n",
    "    accuracy.append(sum(temp_accuracy))\n",
    "\n",
    "#pos = 0\n",
    "#for i in range(len(accuracy)):\n",
    "#    if accuracy[i]>0: pos+=1\n",
    "#pos/float(len(accuracy))\n",
    "sum(accuracy)/float(len(accuracy))"
   ]
  },
  {
   "cell_type": "code",
   "execution_count": 115,
   "metadata": {
    "collapsed": false
   },
   "outputs": [],
   "source": [
    "x = [0,10,20,30,40,50,60,70,80,90,100]\n",
    "y = [0,0.447,0.622,0.731,0.783,0.82,0.854,0.888,0.916,0.938,0.958]\n",
    "\n"
   ]
  },
  {
   "cell_type": "code",
   "execution_count": 130,
   "metadata": {
    "collapsed": false
   },
   "outputs": [
    {
     "data": {
      "text/plain": [
       "0.006707807888382077"
      ]
     },
     "execution_count": 130,
     "metadata": {},
     "output_type": "execute_result"
    }
   ],
   "source": [
    "# calculate accuracy for randomized investors\n",
    "\n",
    "number_investor = 10\n",
    "accuracy = []\n",
    "for irow_hs in hs.index:\n",
    "    \n",
    "    # make list of actual investors of the company\n",
    "    actual_investors = unique(hs.loc[irow_hs,'investor_company0':'investor_company11'].dropna().values.tolist() + hs.loc[irow_hs,'investor_user0':'investor_user23'].dropna().values.tolist() + hs.loc[irow_hs,'CB_Investor0':'CB_Investor7'].dropna().values.tolist()).tolist()\n",
    "    \n",
    "    # make list of recommended investors based on company category and similarity\n",
    "    recommend_investors = random.sample(di['Name'],number_investor)\n",
    "    \n",
    "    # compare actual and recommended investors\n",
    "    temp_accuracy = []\n",
    "    for i in actual_investors:\n",
    "        if i in recommend_investors: temp_accuracy.append(1)\n",
    "        else: temp_accuracy.append(0)\n",
    "    \n",
    "    accuracy.append(sum(temp_accuracy))\n",
    "\n",
    "#pos = 0\n",
    "#for i in range(len(accuracy)):\n",
    "#    if accuracy[i]>0: pos+=1\n",
    "#pos/float(len(accuracy))\n",
    "sum(accuracy)/float(len(accuracy))"
   ]
  },
  {
   "cell_type": "code",
   "execution_count": 119,
   "metadata": {
    "collapsed": false
   },
   "outputs": [
    {
     "data": {
      "text/plain": [
       "['Beta Fund', 'MML Capital Partners']"
      ]
     },
     "execution_count": 119,
     "metadata": {},
     "output_type": "execute_result"
    }
   ],
   "source": [
    "x = [0,10,20,30,40,50,60,70,80,90,100]\n",
    "y = [0,0.01,0.01,0.02,0.03,0.04,0.04,0.04,0.05,0.07,0.08]\n",
    "\n",
    "\n"
   ]
  },
  {
   "cell_type": "code",
   "execution_count": null,
   "metadata": {
    "collapsed": true
   },
   "outputs": [],
   "source": []
  },
  {
   "cell_type": "code",
   "execution_count": null,
   "metadata": {
    "collapsed": true
   },
   "outputs": [],
   "source": []
  },
  {
   "cell_type": "code",
   "execution_count": null,
   "metadata": {
    "collapsed": true
   },
   "outputs": [],
   "source": []
  }
 ],
 "metadata": {
  "kernelspec": {
   "display_name": "Python 2",
   "language": "python",
   "name": "python2"
  },
  "language_info": {
   "codemirror_mode": {
    "name": "ipython",
    "version": 2
   },
   "file_extension": ".py",
   "mimetype": "text/x-python",
   "name": "python",
   "nbconvert_exporter": "python",
   "pygments_lexer": "ipython2",
   "version": "2.7.10"
  }
 },
 "nbformat": 4,
 "nbformat_minor": 0
}
