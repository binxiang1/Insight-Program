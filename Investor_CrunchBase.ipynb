{
 "cells": [
  {
   "cell_type": "code",
   "execution_count": 1,
   "metadata": {
    "collapsed": true
   },
   "outputs": [],
   "source": [
    "import requests\n",
    "import json\n",
    "import pandas as pd \n",
    "from pandas import *\n",
    "import numpy as np\n",
    "import itertools\n",
    "from sklearn.decomposition import ProjectedGradientNMF\n",
    "import numpy\n",
    "import matplotlib.pyplot as plt\n",
    "import numpy as np\n",
    "hs = pd.read_csv('/Users/binxiang/Desktop/Insight/Week 2/SH_CB.csv')\n",
    "\n",
    "#### Generate investor profile dataframe for sql\n",
    "\n",
    "# make unique investor list\n",
    "uinvestor = []\n",
    "for irow_hs in range(len(hs.index)):\n",
    "    uinvestor.extend(unique(hs.loc[irow_hs,'investor_company0':'investor_company11'].dropna().values.tolist() + hs.loc[irow_hs,'investor_user0':'investor_user23'].dropna().values.tolist() + hs.loc[irow_hs,'CB_Investor0':'CB_Investor7'].dropna().values.tolist()).tolist())\n",
    "uinvestor = unique(uinvestor)\n",
    "investor_sql = pd.DataFrame(index=range(len(uinvestor)),columns=['Name','Category','TimesInvest'])\n",
    "# fill in empty investor dataframe\n",
    "for i in range(len(uinvestor)):\n",
    "    investor_sql.ix[i,'Name'] = uinvestor[i]\n",
    "    investor_sql.ix[i,'TimesInvest'] = 0\n",
    "for irow_hs in hs.index:\n",
    "    inv = (unique(hs.loc[irow_hs,'investor_company0':'investor_company11'].dropna().values.tolist() + hs.loc[irow_hs,'investor_user0':'investor_user23'].dropna().values.tolist() + hs.loc[irow_hs,'CB_Investor0':'CB_Investor7'].dropna().values.tolist()).tolist())\n",
    "    for i_inv in range(len(inv)):\n",
    "        investor_sql['Category'][investor_sql['Name']==inv[i_inv]] = hs.loc[irow_hs,'CB_Category']\n",
    "# fill in total times of investments from CrunchBase\n",
    "for i_inv in range(len(uinvestor)):\n",
    "    name = uinvestor[i_inv].replace(' ','-')\n",
    "    name = name.replace('.','-')\n",
    "    url='https://api.crunchbase.com/v/3/organizations/'+ name\n",
    "    parameters = {'user_key': ['fcd09c06050fc1052f0aceb5b828d16f']}\n",
    "    try:\n",
    "        r = requests.get(url, params = parameters)\n",
    "        test = json.loads(r.text)\n",
    "        #n_company = len(test.get('data').get('relationships').get('investments').get('items'))\n",
    "        n_invest = test.get('data').get('properties').get(\"number_of_investments\")\n",
    "        #investor_sql['TimesInvest'][investor_sql['Name']==uinvestor[i_inv]] = round(np.log10(n_invest) + n_invest/ float(n_company),1)\n",
    "        investor_sql['TimesInvest'][investor_sql['Name']==uinvestor[i_inv]] = n_invest\n",
    "    except:\n",
    "        pass\n",
    "for i_inv in range(len(uinvestor)):\n",
    "    name = uinvestor[i_inv].replace(' ','-')\n",
    "    name = name.replace('.','-')\n",
    "    url='https://api.crunchbase.com/v/3/people/'+ name\n",
    "    parameters = {'user_key': ['fcd09c06050fc1052f0aceb5b828d16f']}\n",
    "    try:\n",
    "        r = requests.get(url, params = parameters)\n",
    "        test = json.loads(r.text)\n",
    "        #n_company = len(test.get('data').get('relationships').get('investments').get('items'))\n",
    "        n_invest = test.get('data').get('relationships').get('investments').get('paging').get('total_items')\n",
    "        #investor_sql['TimesInvest'][investor_sql['Name']==uinvestor[i_inv]] = round(np.log10(n_invest) + n_invest / float(n_company),1)\n",
    "        investor_sql['TimesInvest'][investor_sql['Name']==uinvestor[i_inv]] = n_invest\n",
    "    except:\n",
    "        pass\n",
    "# save to sql\n",
    "investor_sql.to_csv('investor_sql.csv')\n",
    "\n",
    "\n",
    "### Generate company profile dataframe for sql\n",
    "\n",
    "ucompany = unique(hs[\"COMPANY_NAME\"])\n",
    "company_sql = pd.DataFrame(index=range(len(ucompany)),columns=['Name','Category','Location','Title','Investors'])\n",
    "\n",
    "# fill in empty company dataframe\n",
    "for i in range(len(ucompany)):\n",
    "    company_sql.ix[i,'Name'] = ucompany[i]\n",
    "for irow_hs in hs.index:\n",
    "    company_sql['Category'][company_sql['Name']==hs.loc[irow_hs,'COMPANY_NAME']] = hs.loc[irow_hs,'CB_Category']\n",
    "    company_sql['Location'][company_sql['Name']==hs.loc[irow_hs,'COMPANY_NAME']] = hs.loc[irow_hs,'LOCATION']\n",
    "    company_sql['Title'][company_sql['Name']==hs.loc[irow_hs,'COMPANY_NAME']] = hs.loc[irow_hs,'TITLE']\n",
    "    inv = (unique(hs.loc[irow_hs,'investor_company0':'investor_company11'].dropna().values.tolist() + hs.loc[irow_hs,'investor_user0':'investor_user23'].dropna().values.tolist() + hs.loc[irow_hs,'CB_Investor0':'CB_Investor7'].dropna().values.tolist()).tolist())\n",
    "    if len(inv) > 0:\n",
    "        inv_str = inv[0]\n",
    "        for i_inv in range(len(inv))[1:]:\n",
    "            inv_str = inv_str + ' + ' + inv[i_inv]\n",
    "        company_sql['Investors'][company_sql['Name']==hs.loc[irow_hs,'COMPANY_NAME']] = inv_str\n",
    "# save to sql\n",
    "company_sql.to_csv('company_sql.csv')\n"
   ]
  },
  {
   "cell_type": "code",
   "execution_count": 78,
   "metadata": {
    "collapsed": false
   },
   "outputs": [
    {
     "data": {
      "text/plain": [
       "array(['Seed', 'Debt', 'Series B', 'Series A', 'Series C', 'Grant',\n",
       "       'Series D', 'Venture Round', 'Incubator', 'Acquired', 'Series F',\n",
       "       'Series E', 'First Round Capital IV', 'Digital Growth Fund',\n",
       "       'Correlation Ventures, LP', 'Founder', 'Series G',\n",
       "       'CHCF Health Innovation Fund', 'West Health Investment Fund',\n",
       "       'Welsh, Carson, Anderson & Stowe XI',\n",
       "       'Summit Partners Venture Capital Fund II', 'Aberdare Ventures I LP',\n",
       "       'Aisling Capital II LP', 'Bessemer Venture Partners Fund VII LP',\n",
       "       'CHP I', 'Highland Consumer Fund I', 'Lux Ventures II',\n",
       "       'Sequoia Israel Fourth Fund', 'Healthcare Innovation Fund',\n",
       "       'Angel Fund', 'True Ventures III', 'Credo Stage 1',\n",
       "       'Morgenthaler Ventures IX', 'NMP III', 'RHV', 'Debt Capital',\n",
       "       'Fund II', 'North Bridge Growth Equity I', 'Fund I', 'Fund III',\n",
       "       'Venrock V', 'Blue Cross Blue Shield Fund II', 'Apex VI',\n",
       "       'New Enterprise Associates 13', 'Venture Capital Fund I',\n",
       "       'Pfizer Venture Investments Fund',\n",
       "       'Johnson & Johnson Development Corporation', 'Physic Ventures',\n",
       "       'BlueCross BlueShield Venture Partners II LP', 'CHV Capital Fund',\n",
       "       'Reed Elsevier Ventures Fund', 'Lehmi II', 'Floodgate Fund IV',\n",
       "       'Edison Venture Fund VII',\n",
       "       'Union Square Ventures Opportunity Fund LP', 'IPO',\n",
       "       'Catalyst Fund III', 'OATV II', 'Global Health Innovation Fund',\n",
       "       'Crowdfunding', 'Foundry Venture Capital 2012, L.P. ',\n",
       "       'LABACA Venture Capital Fund', 'Competition',\n",
       "       'Point 406 Ventures I L.P.', 'ABS VI', 'Mansa Healthcare PE Fund',\n",
       "       'Verge Fund I LP', 'OpenView Fund I', 'Third Rock Ventures III',\n",
       "       'Foundation Capital Fund VI', 'HLM Venture Partners III, L.P.',\n",
       "       'Sierra IX', 'Talyst', 'Hyde Park Venture Partners Fund I',\n",
       "       'Chicago Venture Fund', 'Big Data Fund 2',\n",
       "       'Polaris Venture Partners IV', 'Arcapita Ventures I',\n",
       "       'Versant Venture Capital IV', 'Trident Capital Fund VII',\n",
       "       'SV Life Sciences Fund V', 'StarVest II', 'Stage2 Ventures Fund I',\n",
       "       'Rho Ventures VI', 'Health-Care Fund IV',\n",
       "       'Osage Venture Partners III', 'Okapi Ventures II',\n",
       "       'Merger/ Acquision', 'FCA Venture Partners V', 'Seed Round',\n",
       "       'FirstMark Capital Fund III', 'Fund VII', 'Growth Equity',\n",
       "       'Strategic Investment'], dtype=object)"
      ]
     },
     "execution_count": 78,
     "metadata": {},
     "output_type": "execute_result"
    }
   ],
   "source": [
    "unique(company_sql['Title'])"
   ]
  },
  {
   "cell_type": "code",
   "execution_count": null,
   "metadata": {
    "collapsed": true
   },
   "outputs": [],
   "source": []
  }
 ],
 "metadata": {
  "kernelspec": {
   "display_name": "Python 2",
   "language": "python",
   "name": "python2"
  },
  "language_info": {
   "codemirror_mode": {
    "name": "ipython",
    "version": 2
   },
   "file_extension": ".py",
   "mimetype": "text/x-python",
   "name": "python",
   "nbconvert_exporter": "python",
   "pygments_lexer": "ipython2",
   "version": "2.7.10"
  }
 },
 "nbformat": 4,
 "nbformat_minor": 0
}
